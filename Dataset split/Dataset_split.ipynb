{
 "cells": [
  {
   "cell_type": "code",
   "execution_count": null,
   "id": "407a2e60-3c76-445a-9c67-864f14cc0327",
   "metadata": {},
   "outputs": [],
   "source": [
    "Dataset split into 80/20 ( train and test)"
   ]
  },
  {
   "cell_type": "code",
   "execution_count": 2,
   "id": "74aa134a",
   "metadata": {},
   "outputs": [
    {
     "name": "stdout",
     "output_type": "stream",
     "text": [
      "Dataset split into training and testing sets successfully!\n"
     ]
    }
   ],
   "source": [
    "import os\n",
    "import shutil\n",
    "from sklearn.model_selection import train_test_split\n",
    "\n",
    "# Base folder containing the dataset\n",
    "base_folder = r\"D:\\Lung_cancer\"\n",
    "\n",
    "# Output directories for training and testing\n",
    "output_train_folder = os.path.join(base_folder, \"train\")\n",
    "output_test_folder = os.path.join(base_folder, \"test\")\n",
    "\n",
    "# Create output directories if they don't exist\n",
    "os.makedirs(output_train_folder, exist_ok=True)\n",
    "os.makedirs(output_test_folder, exist_ok=True)\n",
    "\n",
    "# Classes (subfolders) in the base folder\n",
    "classes = [\"Adenocarcinoma\", \"Nor\", \"Squamous_carcinoma\"]\n",
    "\n",
    "# Split ratio\n",
    "test_ratio = 0.2\n",
    "\n",
    "for class_name in classes:\n",
    "    # Paths for the class folder and output subfolders\n",
    "    class_folder = os.path.join(base_folder, class_name)\n",
    "    train_class_folder = os.path.join(output_train_folder, class_name)\n",
    "    test_class_folder = os.path.join(output_test_folder, class_name)\n",
    "\n",
    "    # Create class-specific subfolders in train and test directories\n",
    "    os.makedirs(train_class_folder, exist_ok=True)\n",
    "    os.makedirs(test_class_folder, exist_ok=True)\n",
    "\n",
    "    # Get all image files in the class folder\n",
    "    images = [os.path.join(class_folder, img) for img in os.listdir(class_folder) if img.lower().endswith(('.png', '.jpg', '.jpeg'))]\n",
    "\n",
    "    # Split the images into train and test sets\n",
    "    train_images, test_images = train_test_split(images, test_size=test_ratio, random_state=42)\n",
    "\n",
    "    # Copy the images to the respective directories\n",
    "    for img in train_images:\n",
    "        shutil.copy(img, train_class_folder)\n",
    "\n",
    "    for img in test_images:\n",
    "        shutil.copy(img, test_class_folder)\n",
    "\n",
    "print(\"Dataset split into training and testing sets successfully!\")\n"
   ]
  },
  {
   "cell_type": "code",
   "execution_count": null,
   "id": "636e881f-160b-4000-bedc-e1810a2284d3",
   "metadata": {},
   "outputs": [],
   "source": []
  }
 ],
 "metadata": {
  "kernelspec": {
   "display_name": "Python 3 (ipykernel)",
   "language": "python",
   "name": "python3"
  },
  "language_info": {
   "codemirror_mode": {
    "name": "ipython",
    "version": 3
   },
   "file_extension": ".py",
   "mimetype": "text/x-python",
   "name": "python",
   "nbconvert_exporter": "python",
   "pygments_lexer": "ipython3",
   "version": "3.11.5"
  }
 },
 "nbformat": 4,
 "nbformat_minor": 5
}
